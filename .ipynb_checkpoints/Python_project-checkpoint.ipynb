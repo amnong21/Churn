{
 "cells": [
  {
   "cell_type": "markdown",
   "id": "7192fd0c-ceb5-4a27-9d5e-5a11e54ad5b5",
   "metadata": {},
   "source": [
    "# Churn customers"
   ]
  },
  {
   "cell_type": "markdown",
   "id": "4e8d01f4-72af-48ce-bb10-b56182f5c0a2",
   "metadata": {},
   "source": [
    "## Imports"
   ]
  },
  {
   "cell_type": "code",
   "execution_count": 88,
   "id": "f423d338-92fe-4409-aab3-3cebc5179f3c",
   "metadata": {},
   "outputs": [],
   "source": [
    "import numpy as np\n",
    "import pandas as pd\n",
    "import matplotlib.pyplot as plt\n",
    "import seaborn as sns\n",
    "import os\n",
    "\n",
    "file = \"churn.csv\""
   ]
  },
  {
   "cell_type": "markdown",
   "id": "efbb3836-c783-42bd-897f-e97fedcbecb9",
   "metadata": {},
   "source": [
    "## Helpers"
   ]
  },
  {
   "cell_type": "code",
   "execution_count": 89,
   "id": "c21afa43-abb8-4e91-9ad4-2de7a889b6cf",
   "metadata": {
    "jupyter": {
     "source_hidden": true
    },
    "tags": []
   },
   "outputs": [],
   "source": [
    "def annot_max(x,y, ax=None):\n",
    "    # auto annotate the max point of a fig given its x and y\n",
    "    xmax = x[np.argmax(y)]\n",
    "    ymax = y.max()\n",
    "    text= \"x={:.0f}, y={:.3f}\".format(xmax, ymax)\n",
    "    if not ax:\n",
    "        ax=plt.gca()\n",
    "    bbox_props = dict(boxstyle=\"square,pad=0.3\", fc=\"w\", ec=\"k\", lw=0.72)\n",
    "    arrowprops=dict(arrowstyle=\"->\",connectionstyle=\"angle,angleA=0,angleB=60\")\n",
    "    kw = dict(xycoords='data',textcoords=\"axes fraction\",\n",
    "              arrowprops=arrowprops, bbox=bbox_props, ha=\"right\", va=\"top\")\n",
    "    ax.annotate(text, xy=(xmax, ymax), xytext=(0.94,0.96), **kw)"
   ]
  },
  {
   "cell_type": "markdown",
   "id": "d222724b-1abd-4d97-ba79-932ec5324316",
   "metadata": {},
   "source": [
    "## df_Class"
   ]
  },
  {
   "cell_type": "code",
   "execution_count": 105,
   "id": "c7cb6c72-c387-4112-a774-ad6ca3c686d0",
   "metadata": {},
   "outputs": [],
   "source": [
    "class df_class:\n",
    "    \n",
    "    def __init__(self,csv_file_name, label='churn'):      \n",
    "        self.name = os.path.splitext(csv_file_name)[0]\n",
    "        self.df = pd.read_csv(csv_file_name ,index_col='customerID') \\\n",
    "            .rename(columns=str.lower) \\\n",
    "            .replace(to_replace = ['Yes','No','No phone service','No internet service'],value = [1,0,0,0])\n",
    "        self.df[\"totalcharges\"] = pd.to_numeric(self.df[\"totalcharges\"].replace(\" \", 0))\n",
    "        self.df['years']=self.df['tenure']//12\n",
    "        self.df_dummies = pd.get_dummies(self.df, drop_first=True)\n",
    "        self.label = label\n",
    "        \n",
    "    def __str__(self):\n",
    "        return self.name\n",
    "    \n",
    "    def corr(self):\n",
    "        label = self.label\n",
    "        fig = self.df.corr()[label].drop(label).plot(kind='barh')\n",
    "        plt.show()\n",
    " \n",
    "    def histplot(self,column='years'):      \n",
    "        label = self.label\n",
    "        cross_tab_prop=pd.crosstab(index=self.df[column],columns=self.df[label],normalize='index')\n",
    "        cross_tab=pd.crosstab(index=self.df[column],columns=self.df[label])\n",
    "        cross_tab_prop.plot(kind='bar', \n",
    "                        stacked=True, \n",
    "                        colormap='tab10', \n",
    "                        figsize=(10, 6))\n",
    "\n",
    "        plt.legend(loc=\"lower right\", labels = ['{}: False'.format(label),'{}: True'.format(label)])\n",
    "        plt.xlabel(column)\n",
    "        plt.ylabel(\"Proportion\")\n",
    "        plt.title('%{} over {}'.format(label, column))\n",
    "\n",
    "        for n, x in enumerate([*cross_tab.index.values]):\n",
    "            for (proportion, count, y_loc) in zip(cross_tab_prop.loc[x],\n",
    "                                                  cross_tab.loc[x],\n",
    "                                                  cross_tab_prop.loc[x].cumsum()):\n",
    "\n",
    "                plt.text(x=n - 0.0,\n",
    "                         y=(y_loc - proportion) + (proportion / 2),\n",
    "                         s=f'{count}\\n{np.round(proportion * 100, 0).astype(int)}%', \n",
    "                         color=\"black\",\n",
    "                         horizontalalignment='center',\n",
    "                         fontsize=8\n",
    "                         )\n",
    "        plt.show()\n",
    "\n",
    "        \n",
    "    def train_test(self):\n",
    "        from sklearn.model_selection import train_test_split\n",
    "        label = self.label\n",
    "        train, test = train_test_split(self.df_dummies, test_size=0.2, random_state=0, shuffle=True)\n",
    "        x_train = train.drop(label, axis=1)\n",
    "        y_train = train[label]\n",
    "        x_test, y_test = test.drop(label, axis=1), test[label]\n",
    "        return (x_train, y_train, x_test, y_test)\n",
    "\n",
    "    def decision_tree(self, max_depth=5, draw=False):\n",
    "        from sklearn.tree import DecisionTreeClassifier # Importing the algorithm\n",
    "        from sklearn.metrics import accuracy_score\n",
    "        \n",
    "        label = self.label\n",
    "        (x_train, y_train, x_test, y_test) = self.train_test()    \n",
    "        clf = DecisionTreeClassifier(max_depth=max_depth)\n",
    "        clf.fit(x_train, y_train) # running\\training the algorithm with the train data\n",
    "        y_test_pred_DecisionTree = clf.predict(x_test) # making a prediction based on \"test\" data features\n",
    "        # output = pd.DataFrame({'{}: what_actualy_happened'.format(label):y_test, '{} predicted_by_model'.format(label): y_test_pred_DecisionTree})\n",
    "        test_acc = accuracy_score(y_test, y_test_pred_DecisionTree)\n",
    "        \n",
    "        if draw:\n",
    "            from sklearn.tree import DecisionTreeClassifier, export_graphviz\n",
    "            from IPython.display import SVG\n",
    "            from graphviz import Source\n",
    "            from IPython.display import display\n",
    "\n",
    "            # this is a function that we can always use for plotting decision trees, the function expects 3 arg as follows\n",
    "            def plot_tree(tree, features, labels):\n",
    "                graph = Source(export_graphviz(tree, feature_names=features, class_names=labels, filled = True))\n",
    "                display(SVG(graph.pipe(format='svg')))\n",
    "\n",
    "            plot_tree(clf, x_train.columns, ['{}: False'.format(label), '{}: True'.format(label)])\n",
    "        \n",
    "        return test_acc\n",
    "\n",
    "    def compare_decision_tree_depths(self, min, max):\n",
    "        depths = np.arange(min, max)\n",
    "        accuracies = np.array([self.decision_tree(i) for i in depths])\n",
    "        print(accuracies)\n",
    "        fig = sns.lineplot(x=depths, y = accuracies).set(title='Accuracy of model over tree depth')\n",
    "        #fig.set_xlabel(\"Decision Tree Depth\")\n",
    "        # fig.set_ylabel(\"Accuracy\")\n",
    "        annot_max(depths,accuracies)\n",
    "    \n",
    "\n",
    "\n",
    "    \n",
    "dfc = df_class(file)\n"
   ]
  },
  {
   "cell_type": "code",
   "execution_count": 106,
   "id": "f7b1d17c-98a0-485b-9484-3c1721b89670",
   "metadata": {},
   "outputs": [
    {
     "name": "stdout",
     "output_type": "stream",
     "text": [
      "[0.73882186 0.78353442 0.78353442 0.7828247  0.79488999 0.78921221\n",
      " 0.78211498 0.77217885 0.76082328]\n"
     ]
    },
    {
     "data": {
      "image/png": "[encoded data removed]",
      "text/plain": [
       "<Figure size 640x480 with 1 Axes>"
      ]
     },
     "metadata": {},
     "output_type": "display_data"
    }
   ],
   "source": [
    "dfc.compare_decision_tree_depths(1,10)\n"
   ]
  },
  {
   "cell_type": "code",
   "execution_count": null,
   "id": "7ee7a2bf-0a89-4032-9a06-760746682e7a",
   "metadata": {},
   "outputs": [],
   "source": []
  }
 ],
 "metadata": {
  "kernelspec": {
   "display_name": "Python 3 (ipykernel)",
   "language": "python",
   "name": "python3"
  },
  "language_info": {
   "codemirror_mode": {
    "name": "ipython",
    "version": 3
   },
   "file_extension": ".py",
   "mimetype": "text/x-python",
   "name": "python",
   "nbconvert_exporter": "python",
   "pygments_lexer": "ipython3",
   "version": "3.9.7"
  }
 },
 "nbformat": 4,
 "nbformat_minor": 5
}

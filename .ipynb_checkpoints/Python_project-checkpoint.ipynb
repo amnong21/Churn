{
 "cells": [
  {
   "cell_type": "markdown",
   "id": "7192fd0c-ceb5-4a27-9d5e-5a11e54ad5b5",
   "metadata": {},
   "source": [
    "# Churn customers"
   ]
  },
  {
   "cell_type": "markdown",
   "id": "4e8d01f4-72af-48ce-bb10-b56182f5c0a2",
   "metadata": {},
   "source": [
    "## Imports"
   ]
  },
  {
   "cell_type": "code",
   "execution_count": 170,
   "id": "f423d338-92fe-4409-aab3-3cebc5179f3c",
   "metadata": {},
   "outputs": [],
   "source": [
    "import numpy as np\n",
    "import pandas as pd\n",
    "import matplotlib.pyplot as plt\n",
    "import seaborn as sns\n",
    "import os\n",
    "\n",
    "file = \"churn.csv\""
   ]
  },
  {
   "cell_type": "markdown",
   "id": "d222724b-1abd-4d97-ba79-932ec5324316",
   "metadata": {},
   "source": [
    "## df_Class"
   ]
  },
  {
   "cell_type": "code",
   "execution_count": 193,
   "id": "c7cb6c72-c387-4112-a774-ad6ca3c686d0",
   "metadata": {},
   "outputs": [],
   "source": [
    "class df_class:\n",
    "    \n",
    "    def __init__(self,csv_file_name, label='churn'):      \n",
    "        self.name = os.path.splitext(csv_file_name)[0]\n",
    "        self.df = pd.read_csv(csv_file_name ,index_col='customerID') \\\n",
    "            .rename(columns=str.lower) \\\n",
    "            .replace(to_replace = ['Yes','No','No phone service','No internet service'],value = [1,0,0,0])\n",
    "        self.df[\"totalcharges\"] = pd.to_numeric(self.df[\"totalcharges\"].replace(\" \", 0))\n",
    "        self.df['years']=self.df['tenure']//12\n",
    "        self.df_dummies = pd.get_dummies(self.df)\n",
    "        self.label = label\n",
    "        \n",
    "    def __str__(self):\n",
    "        return self.name\n",
    "    \n",
    "    def corr(self):\n",
    "        label = self.label\n",
    "        fig = self.df.corr()[label].drop(label).plot(kind='barh')\n",
    "        plt.show()\n",
    " \n",
    "    def histplot(self,column='years'):      \n",
    "        label = self.label\n",
    "        cross_tab_prop=pd.crosstab(index=self.df[column],columns=self.df[label],normalize='index')\n",
    "        cross_tab=pd.crosstab(index=self.df[column],columns=self.df[label])\n",
    "        cross_tab_prop.plot(kind='bar', \n",
    "                        stacked=True, \n",
    "                        colormap='tab10', \n",
    "                        figsize=(10, 6))\n",
    "\n",
    "        plt.legend(loc=\"lower right\", labels = ['{}: False'.format(label),'{}: True'.format(label)])\n",
    "        plt.xlabel(column)\n",
    "        plt.ylabel(\"Proportion\")\n",
    "        plt.title('%{} over {}'.format(label, column))\n",
    "\n",
    "        for n, x in enumerate([*cross_tab.index.values]):\n",
    "            for (proportion, count, y_loc) in zip(cross_tab_prop.loc[x],\n",
    "                                                  cross_tab.loc[x],\n",
    "                                                  cross_tab_prop.loc[x].cumsum()):\n",
    "\n",
    "                plt.text(x=n - 0.17,\n",
    "                         y=(y_loc - proportion) + (proportion / 2),\n",
    "                         s=f'{count}\\n{np.round(proportion * 100, 0).astype(int)}%', \n",
    "                         color=\"black\",\n",
    "                         fontsize=8\n",
    "                         )\n",
    "        plt.show()\n",
    "\n",
    "        \n",
    "    def train_test(self):\n",
    "        from sklearn.model_selection import train_test_split\n",
    "        label = self.label\n",
    "        train, test = train_test_split(self.df_dummies, test_size=0.2, random_state=0, shuffle=True)\n",
    "        x_train = train.drop(label, axis=1)\n",
    "        y_train = train[label]\n",
    "        x_test, y_test = test.drop(label, axis=1), test[label]\n",
    "        return (x_train, y_train, x_test, y_test)\n",
    "\n",
    "    def decision_tree(self, max_depth=5, draw=False):\n",
    "        from sklearn.tree import DecisionTreeClassifier # Importing the algorithm\n",
    "        from sklearn.metrics import accuracy_score\n",
    "        \n",
    "        label = self.label\n",
    "        (x_train, y_train, x_test, y_test) = self.train_test()    \n",
    "        clf = DecisionTreeClassifier(max_depth=max_depth)\n",
    "        clf.fit(x_train, y_train) # running\\training the algorithm with the train data\n",
    "        y_test_pred_DecisionTree = clf.predict(x_test) # making a prediction based on \"test\" data features\n",
    "        # output = pd.DataFrame({'{}: what_actualy_happened'.format(label):y_test, '{} predicted_by_model'.format(label): y_test_pred_DecisionTree})\n",
    "        test_acc = accuracy_score(y_test, y_test_pred_DecisionTree)\n",
    "        \n",
    "        if draw:\n",
    "            from sklearn.tree import DecisionTreeClassifier, export_graphviz\n",
    "            from IPython.display import SVG\n",
    "            from graphviz import Source\n",
    "            from IPython.display import display\n",
    "\n",
    "            # this is a function that we can always use for plotting decision trees, the function expects 3 arg as follows\n",
    "            def plot_tree(tree, features, labels):\n",
    "                graph = Source(export_graphviz(tree, feature_names=features, class_names=labels, filled = True))\n",
    "                display(SVG(graph.pipe(format='svg')))\n",
    "\n",
    "            plot_tree(clf, x_train.columns, ['{}: False'.format(label), '{}: True'.format(label)])\n",
    "        \n",
    "        return test_acc\n",
    "\n",
    "    \n",
    "dfc = df_class(file)"
   ]
  },
  {
   "cell_type": "code",
   "execution_count": 194,
   "id": "4a9f83ad-c38f-4f25-bd4e-aeaa36ebf83e",
   "metadata": {},
   "outputs": [
    {
     "data": {
      "image/png": "[encoded data removed]",
      "text/plain": [
       "<Figure size 1000x600 with 1 Axes>"
      ]
     },
     "metadata": {},
     "output_type": "display_data"
    }
   ],
   "source": [
    "dfc.histplot()"
   ]
  },
  {
   "cell_type": "code",
   "execution_count": 173,
   "id": "4f68095d-1751-43e7-aedb-d01b9613e489",
   "metadata": {},
   "outputs": [
    {
     "name": "stdout",
     "output_type": "stream",
     "text": [
      "2:0.758694109297374\n",
      "3:0.7785663591199432\n",
      "4:0.7721788502484032\n",
      "5:0.7842441447835344\n",
      "6:0.7778566359119943\n"
     ]
    },
    {
     "data": {
      "text/plain": [
       "[None, None, None, None, None]"
      ]
     },
     "execution_count": 173,
     "metadata": {},
     "output_type": "execute_result"
    }
   ],
   "source": [
    "[print('{}:{}'.format(i,dfc.decision_tree(i))) for i in range(2,7)]\n"
   ]
  },
  {
   "cell_type": "code",
   "execution_count": 99,
   "id": "f107e7be-989e-4e4e-9fcd-8e8db2422a24",
   "metadata": {},
   "outputs": [
    {
     "data": {
      "text/plain": [
       "gender              0\n",
       "seniorcitizen       0\n",
       "partner             0\n",
       "dependents          0\n",
       "tenure              0\n",
       "phoneservice        0\n",
       "multiplelines       0\n",
       "internetservice     0\n",
       "onlinesecurity      0\n",
       "onlinebackup        0\n",
       "deviceprotection    0\n",
       "techsupport         0\n",
       "streamingtv         0\n",
       "streamingmovies     0\n",
       "contract            0\n",
       "paperlessbilling    0\n",
       "paymentmethod       0\n",
       "monthlycharges      0\n",
       "totalcharges        0\n",
       "churn               0\n",
       "dtype: int64"
      ]
     },
     "execution_count": 99,
     "metadata": {},
     "output_type": "execute_result"
    }
   ],
   "source": [
    "dfc.df.isnull().sum()"
   ]
  },
  {
   "cell_type": "code",
   "execution_count": 100,
   "id": "2fc2f6ac-ef2f-4453-b7da-1482990bcfbd",
   "metadata": {},
   "outputs": [
    {
     "data": {
      "text/plain": [
       "0.0"
      ]
     },
     "execution_count": 100,
     "metadata": {},
     "output_type": "execute_result"
    }
   ],
   "source": [
    "dfc.df.loc[\"4472-LVYGI\",\"totalcharges\"]"
   ]
  },
  {
   "cell_type": "code",
   "execution_count": 101,
   "id": "cfdcf67b-da2b-4663-abdb-1b1eafbba578",
   "metadata": {},
   "outputs": [
    {
     "data": {
      "text/plain": [
       "gender               object\n",
       "seniorcitizen         int64\n",
       "partner               int64\n",
       "dependents            int64\n",
       "tenure                int64\n",
       "phoneservice          int64\n",
       "multiplelines         int64\n",
       "internetservice      object\n",
       "onlinesecurity        int64\n",
       "onlinebackup          int64\n",
       "deviceprotection      int64\n",
       "techsupport           int64\n",
       "streamingtv           int64\n",
       "streamingmovies       int64\n",
       "contract             object\n",
       "paperlessbilling      int64\n",
       "paymentmethod        object\n",
       "monthlycharges      float64\n",
       "totalcharges        float64\n",
       "churn                 int64\n",
       "dtype: object"
      ]
     },
     "execution_count": 101,
     "metadata": {},
     "output_type": "execute_result"
    }
   ],
   "source": [
    "dfc.df.dtypes"
   ]
  },
  {
   "cell_type": "code",
   "execution_count": null,
   "id": "51d2954e-7cfa-4728-b533-0e20d96992a4",
   "metadata": {},
   "outputs": [],
   "source": []
  }
 ],
 "metadata": {
  "kernelspec": {
   "display_name": "Python 3 (ipykernel)",
   "language": "python",
   "name": "python3"
  },
  "language_info": {
   "codemirror_mode": {
    "name": "ipython",
    "version": 3
   },
   "file_extension": ".py",
   "mimetype": "text/x-python",
   "name": "python",
   "nbconvert_exporter": "python",
   "pygments_lexer": "ipython3",
   "version": "3.9.7"
  }
 },
 "nbformat": 4,
 "nbformat_minor": 5
}
